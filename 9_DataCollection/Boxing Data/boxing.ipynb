{
 "cells": [
  {
   "cell_type": "code",
   "execution_count": 9,
   "metadata": {},
   "outputs": [],
   "source": [
    "import pandas as pd\n",
    "import json\n",
    "import matplotlib as plt\n",
    "import seaborn as sns"
   ]
  },
  {
   "cell_type": "code",
   "execution_count": 10,
   "metadata": {},
   "outputs": [],
   "source": [
    "with open ('boxing.json') as f:\n",
    "    jason_data_str = json.load(f)\n",
    "\n",
    "df =pd.json_normalize(jason_data_str)\n",
    "\n"
   ]
  },
  {
   "cell_type": "code",
   "execution_count": 11,
   "metadata": {},
   "outputs": [
    {
     "data": {
      "text/html": [
       "<div>\n",
       "<style scoped>\n",
       "    .dataframe tbody tr th:only-of-type {\n",
       "        vertical-align: middle;\n",
       "    }\n",
       "\n",
       "    .dataframe tbody tr th {\n",
       "        vertical-align: top;\n",
       "    }\n",
       "\n",
       "    .dataframe thead th {\n",
       "        text-align: right;\n",
       "    }\n",
       "</style>\n",
       "<table border=\"1\" class=\"dataframe\">\n",
       "  <thead>\n",
       "    <tr style=\"text-align: right;\">\n",
       "      <th></th>\n",
       "      <th>accuracy</th>\n",
       "      <th>data</th>\n",
       "      <th>experimentId</th>\n",
       "      <th>patientId</th>\n",
       "      <th>sensorId</th>\n",
       "      <th>sensorType</th>\n",
       "      <th>timestamp</th>\n",
       "    </tr>\n",
       "  </thead>\n",
       "  <tbody>\n",
       "    <tr>\n",
       "      <th>0</th>\n",
       "      <td>3</td>\n",
       "      <td>[0.94930094, 6.232107, 8.094197]</td>\n",
       "      <td>0</td>\n",
       "      <td>0</td>\n",
       "      <td>icm4x6xx Accelerometer Non-wakeup</td>\n",
       "      <td>1</td>\n",
       "      <td>204299350435606</td>\n",
       "    </tr>\n",
       "    <tr>\n",
       "      <th>1</th>\n",
       "      <td>3</td>\n",
       "      <td>[0.0]</td>\n",
       "      <td>0</td>\n",
       "      <td>0</td>\n",
       "      <td>device_orient  Non-wakeup</td>\n",
       "      <td>27</td>\n",
       "      <td>204167520679611</td>\n",
       "    </tr>\n",
       "    <tr>\n",
       "      <th>2</th>\n",
       "      <td>3</td>\n",
       "      <td>[-1.5310919, 5.509058, 9.832388]</td>\n",
       "      <td>0</td>\n",
       "      <td>0</td>\n",
       "      <td>icm4x6xx Accelerometer Non-wakeup</td>\n",
       "      <td>1</td>\n",
       "      <td>204299310353940</td>\n",
       "    </tr>\n",
       "    <tr>\n",
       "      <th>3</th>\n",
       "      <td>3</td>\n",
       "      <td>[0.19752164, 5.872977, 9.818023]</td>\n",
       "      <td>0</td>\n",
       "      <td>0</td>\n",
       "      <td>icm4x6xx Accelerometer Non-wakeup</td>\n",
       "      <td>1</td>\n",
       "      <td>204299330394773</td>\n",
       "    </tr>\n",
       "    <tr>\n",
       "      <th>4</th>\n",
       "      <td>3</td>\n",
       "      <td>[1.0, 1.0, 0.0, 3.0, 0.0, 0.0, 0.0, 0.0, 0.0, ...</td>\n",
       "      <td>0</td>\n",
       "      <td>0</td>\n",
       "      <td>oplus_activity_recognition  Wakeup</td>\n",
       "      <td>33171037</td>\n",
       "      <td>204203940653494</td>\n",
       "    </tr>\n",
       "    <tr>\n",
       "      <th>5</th>\n",
       "      <td>3</td>\n",
       "      <td>[0.0, 18.0, 0.0, 0.0, 0.0, 0.0, 0.0, 0.0, 0.0,...</td>\n",
       "      <td>0</td>\n",
       "      <td>0</td>\n",
       "      <td>elevator_detect  Wakeup</td>\n",
       "      <td>33171036</td>\n",
       "      <td>133999045281018</td>\n",
       "    </tr>\n",
       "    <tr>\n",
       "      <th>6</th>\n",
       "      <td>3</td>\n",
       "      <td>[0.0, 0.0, 0.0]</td>\n",
       "      <td>0</td>\n",
       "      <td>0</td>\n",
       "      <td>linear_acceleration</td>\n",
       "      <td>10</td>\n",
       "      <td>204299460843992</td>\n",
       "    </tr>\n",
       "    <tr>\n",
       "      <th>7</th>\n",
       "      <td>3</td>\n",
       "      <td>[0.37948096, 5.8107276, 9.415796]</td>\n",
       "      <td>0</td>\n",
       "      <td>0</td>\n",
       "      <td>icm4x6xx Accelerometer Non-wakeup</td>\n",
       "      <td>1</td>\n",
       "      <td>204299390517273</td>\n",
       "    </tr>\n",
       "    <tr>\n",
       "      <th>8</th>\n",
       "      <td>3</td>\n",
       "      <td>[0.18788588, -1.1688606, 0.09187899]</td>\n",
       "      <td>0</td>\n",
       "      <td>0</td>\n",
       "      <td>icm4x6xx Gyroscope Non-wakeup</td>\n",
       "      <td>4</td>\n",
       "      <td>204299440803158</td>\n",
       "    </tr>\n",
       "    <tr>\n",
       "      <th>9</th>\n",
       "      <td>3</td>\n",
       "      <td>[0.8391677, 5.542577, 7.241862]</td>\n",
       "      <td>0</td>\n",
       "      <td>0</td>\n",
       "      <td>icm4x6xx Accelerometer Non-wakeup</td>\n",
       "      <td>1</td>\n",
       "      <td>204299370476440</td>\n",
       "    </tr>\n",
       "  </tbody>\n",
       "</table>\n",
       "</div>"
      ],
      "text/plain": [
       "   accuracy                                               data  experimentId  \\\n",
       "0         3                   [0.94930094, 6.232107, 8.094197]             0   \n",
       "1         3                                              [0.0]             0   \n",
       "2         3                   [-1.5310919, 5.509058, 9.832388]             0   \n",
       "3         3                   [0.19752164, 5.872977, 9.818023]             0   \n",
       "4         3  [1.0, 1.0, 0.0, 3.0, 0.0, 0.0, 0.0, 0.0, 0.0, ...             0   \n",
       "5         3  [0.0, 18.0, 0.0, 0.0, 0.0, 0.0, 0.0, 0.0, 0.0,...             0   \n",
       "6         3                                    [0.0, 0.0, 0.0]             0   \n",
       "7         3                  [0.37948096, 5.8107276, 9.415796]             0   \n",
       "8         3               [0.18788588, -1.1688606, 0.09187899]             0   \n",
       "9         3                    [0.8391677, 5.542577, 7.241862]             0   \n",
       "\n",
       "   patientId                            sensorId  sensorType        timestamp  \n",
       "0          0   icm4x6xx Accelerometer Non-wakeup           1  204299350435606  \n",
       "1          0           device_orient  Non-wakeup          27  204167520679611  \n",
       "2          0   icm4x6xx Accelerometer Non-wakeup           1  204299310353940  \n",
       "3          0   icm4x6xx Accelerometer Non-wakeup           1  204299330394773  \n",
       "4          0  oplus_activity_recognition  Wakeup    33171037  204203940653494  \n",
       "5          0             elevator_detect  Wakeup    33171036  133999045281018  \n",
       "6          0                 linear_acceleration          10  204299460843992  \n",
       "7          0   icm4x6xx Accelerometer Non-wakeup           1  204299390517273  \n",
       "8          0       icm4x6xx Gyroscope Non-wakeup           4  204299440803158  \n",
       "9          0   icm4x6xx Accelerometer Non-wakeup           1  204299370476440  "
      ]
     },
     "execution_count": 11,
     "metadata": {},
     "output_type": "execute_result"
    }
   ],
   "source": [
    "df.head(10)\n"
   ]
  },
  {
   "cell_type": "code",
   "execution_count": 12,
   "metadata": {},
   "outputs": [
    {
     "data": {
      "text/plain": [
       "sensorId\n",
       "icm4x6xx Accelerometer Non-wakeup                 916\n",
       "linear_acceleration                                92\n",
       "icm4x6xx Gyroscope Non-wakeup                      92\n",
       "mmc56x3x Magnetometer Non-wakeup                   92\n",
       "icm4x6xx Gyroscope-Uncalibrated Non-wakeup         92\n",
       "Game Rotation Vector  Non-wakeup                   92\n",
       "icm4x6xx Accelerometer-Uncalibrated Non-wakeup     92\n",
       "Rotation Vector  Non-wakeup                        91\n",
       "oplus_activity_recognition  Wakeup                  2\n",
       "device_orient  Non-wakeup                           1\n",
       "elevator_detect  Wakeup                             1\n",
       "Name: count, dtype: int64"
      ]
     },
     "execution_count": 12,
     "metadata": {},
     "output_type": "execute_result"
    }
   ],
   "source": [
    "df['sensorId'].value_counts()"
   ]
  },
  {
   "cell_type": "code",
   "execution_count": 13,
   "metadata": {},
   "outputs": [],
   "source": [
    "df_accel = df[df['sensorId'] == 'icm4x6xx Accelerometer Non-wakeup']"
   ]
  },
  {
   "cell_type": "code",
   "execution_count": 14,
   "metadata": {},
   "outputs": [
    {
     "data": {
      "text/html": [
       "<div>\n",
       "<style scoped>\n",
       "    .dataframe tbody tr th:only-of-type {\n",
       "        vertical-align: middle;\n",
       "    }\n",
       "\n",
       "    .dataframe tbody tr th {\n",
       "        vertical-align: top;\n",
       "    }\n",
       "\n",
       "    .dataframe thead th {\n",
       "        text-align: right;\n",
       "    }\n",
       "</style>\n",
       "<table border=\"1\" class=\"dataframe\">\n",
       "  <thead>\n",
       "    <tr style=\"text-align: right;\">\n",
       "      <th></th>\n",
       "      <th>accuracy</th>\n",
       "      <th>data</th>\n",
       "      <th>experimentId</th>\n",
       "      <th>patientId</th>\n",
       "      <th>sensorId</th>\n",
       "      <th>sensorType</th>\n",
       "      <th>timestamp</th>\n",
       "    </tr>\n",
       "  </thead>\n",
       "  <tbody>\n",
       "    <tr>\n",
       "      <th>0</th>\n",
       "      <td>3</td>\n",
       "      <td>[0.94930094, 6.232107, 8.094197]</td>\n",
       "      <td>0</td>\n",
       "      <td>0</td>\n",
       "      <td>icm4x6xx Accelerometer Non-wakeup</td>\n",
       "      <td>1</td>\n",
       "      <td>204299350435606</td>\n",
       "    </tr>\n",
       "    <tr>\n",
       "      <th>2</th>\n",
       "      <td>3</td>\n",
       "      <td>[-1.5310919, 5.509058, 9.832388]</td>\n",
       "      <td>0</td>\n",
       "      <td>0</td>\n",
       "      <td>icm4x6xx Accelerometer Non-wakeup</td>\n",
       "      <td>1</td>\n",
       "      <td>204299310353940</td>\n",
       "    </tr>\n",
       "    <tr>\n",
       "      <th>3</th>\n",
       "      <td>3</td>\n",
       "      <td>[0.19752164, 5.872977, 9.818023]</td>\n",
       "      <td>0</td>\n",
       "      <td>0</td>\n",
       "      <td>icm4x6xx Accelerometer Non-wakeup</td>\n",
       "      <td>1</td>\n",
       "      <td>204299330394773</td>\n",
       "    </tr>\n",
       "    <tr>\n",
       "      <th>7</th>\n",
       "      <td>3</td>\n",
       "      <td>[0.37948096, 5.8107276, 9.415796]</td>\n",
       "      <td>0</td>\n",
       "      <td>0</td>\n",
       "      <td>icm4x6xx Accelerometer Non-wakeup</td>\n",
       "      <td>1</td>\n",
       "      <td>204299390517273</td>\n",
       "    </tr>\n",
       "    <tr>\n",
       "      <th>9</th>\n",
       "      <td>3</td>\n",
       "      <td>[0.8391677, 5.542577, 7.241862]</td>\n",
       "      <td>0</td>\n",
       "      <td>0</td>\n",
       "      <td>icm4x6xx Accelerometer Non-wakeup</td>\n",
       "      <td>1</td>\n",
       "      <td>204299370476440</td>\n",
       "    </tr>\n",
       "    <tr>\n",
       "      <th>11</th>\n",
       "      <td>3</td>\n",
       "      <td>[1.1264719, 4.086902, 10.459669]</td>\n",
       "      <td>0</td>\n",
       "      <td>0</td>\n",
       "      <td>icm4x6xx Accelerometer Non-wakeup</td>\n",
       "      <td>1</td>\n",
       "      <td>204299430598940</td>\n",
       "    </tr>\n",
       "    <tr>\n",
       "      <th>12</th>\n",
       "      <td>3</td>\n",
       "      <td>[0.7625532, 4.9200845, 12.07336]</td>\n",
       "      <td>0</td>\n",
       "      <td>0</td>\n",
       "      <td>icm4x6xx Accelerometer Non-wakeup</td>\n",
       "      <td>1</td>\n",
       "      <td>204299410558106</td>\n",
       "    </tr>\n",
       "    <tr>\n",
       "      <th>15</th>\n",
       "      <td>3</td>\n",
       "      <td>[3.2237926, 4.498705, 10.090961]</td>\n",
       "      <td>0</td>\n",
       "      <td>0</td>\n",
       "      <td>icm4x6xx Accelerometer Non-wakeup</td>\n",
       "      <td>1</td>\n",
       "      <td>204299490721440</td>\n",
       "    </tr>\n",
       "    <tr>\n",
       "      <th>17</th>\n",
       "      <td>3</td>\n",
       "      <td>[1.0259154, 3.8618474, 6.2315083]</td>\n",
       "      <td>0</td>\n",
       "      <td>0</td>\n",
       "      <td>icm4x6xx Accelerometer Non-wakeup</td>\n",
       "      <td>1</td>\n",
       "      <td>204299450639773</td>\n",
       "    </tr>\n",
       "    <tr>\n",
       "      <th>18</th>\n",
       "      <td>3</td>\n",
       "      <td>[1.9692309, 5.0302176, 8.95611]</td>\n",
       "      <td>0</td>\n",
       "      <td>0</td>\n",
       "      <td>icm4x6xx Accelerometer Non-wakeup</td>\n",
       "      <td>1</td>\n",
       "      <td>204299610966440</td>\n",
       "    </tr>\n",
       "  </tbody>\n",
       "</table>\n",
       "</div>"
      ],
      "text/plain": [
       "    accuracy                               data  experimentId  patientId  \\\n",
       "0          3   [0.94930094, 6.232107, 8.094197]             0          0   \n",
       "2          3   [-1.5310919, 5.509058, 9.832388]             0          0   \n",
       "3          3   [0.19752164, 5.872977, 9.818023]             0          0   \n",
       "7          3  [0.37948096, 5.8107276, 9.415796]             0          0   \n",
       "9          3    [0.8391677, 5.542577, 7.241862]             0          0   \n",
       "11         3   [1.1264719, 4.086902, 10.459669]             0          0   \n",
       "12         3   [0.7625532, 4.9200845, 12.07336]             0          0   \n",
       "15         3   [3.2237926, 4.498705, 10.090961]             0          0   \n",
       "17         3  [1.0259154, 3.8618474, 6.2315083]             0          0   \n",
       "18         3    [1.9692309, 5.0302176, 8.95611]             0          0   \n",
       "\n",
       "                             sensorId  sensorType        timestamp  \n",
       "0   icm4x6xx Accelerometer Non-wakeup           1  204299350435606  \n",
       "2   icm4x6xx Accelerometer Non-wakeup           1  204299310353940  \n",
       "3   icm4x6xx Accelerometer Non-wakeup           1  204299330394773  \n",
       "7   icm4x6xx Accelerometer Non-wakeup           1  204299390517273  \n",
       "9   icm4x6xx Accelerometer Non-wakeup           1  204299370476440  \n",
       "11  icm4x6xx Accelerometer Non-wakeup           1  204299430598940  \n",
       "12  icm4x6xx Accelerometer Non-wakeup           1  204299410558106  \n",
       "15  icm4x6xx Accelerometer Non-wakeup           1  204299490721440  \n",
       "17  icm4x6xx Accelerometer Non-wakeup           1  204299450639773  \n",
       "18  icm4x6xx Accelerometer Non-wakeup           1  204299610966440  "
      ]
     },
     "execution_count": 14,
     "metadata": {},
     "output_type": "execute_result"
    }
   ],
   "source": [
    "df_accel.head(10)"
   ]
  },
  {
   "cell_type": "code",
   "execution_count": 16,
   "metadata": {},
   "outputs": [
    {
     "name": "stderr",
     "output_type": "stream",
     "text": [
      "/var/folders/1h/20qwddgj29lghmzyjxl8m6k80000gn/T/ipykernel_4736/1287013529.py:1: SettingWithCopyWarning: \n",
      "A value is trying to be set on a copy of a slice from a DataFrame.\n",
      "Try using .loc[row_indexer,col_indexer] = value instead\n",
      "\n",
      "See the caveats in the documentation: https://pandas.pydata.org/pandas-docs/stable/user_guide/indexing.html#returning-a-view-versus-a-copy\n",
      "  df_accel[['X', 'Y', 'Z']] = pd.DataFrame(df_accel['data'].tolist(), index=df_accel.index)\n",
      "/var/folders/1h/20qwddgj29lghmzyjxl8m6k80000gn/T/ipykernel_4736/1287013529.py:1: SettingWithCopyWarning: \n",
      "A value is trying to be set on a copy of a slice from a DataFrame.\n",
      "Try using .loc[row_indexer,col_indexer] = value instead\n",
      "\n",
      "See the caveats in the documentation: https://pandas.pydata.org/pandas-docs/stable/user_guide/indexing.html#returning-a-view-versus-a-copy\n",
      "  df_accel[['X', 'Y', 'Z']] = pd.DataFrame(df_accel['data'].tolist(), index=df_accel.index)\n",
      "/var/folders/1h/20qwddgj29lghmzyjxl8m6k80000gn/T/ipykernel_4736/1287013529.py:1: SettingWithCopyWarning: \n",
      "A value is trying to be set on a copy of a slice from a DataFrame.\n",
      "Try using .loc[row_indexer,col_indexer] = value instead\n",
      "\n",
      "See the caveats in the documentation: https://pandas.pydata.org/pandas-docs/stable/user_guide/indexing.html#returning-a-view-versus-a-copy\n",
      "  df_accel[['X', 'Y', 'Z']] = pd.DataFrame(df_accel['data'].tolist(), index=df_accel.index)\n"
     ]
    }
   ],
   "source": [
    "df_accel[['X', 'Y', 'Z']] = pd.DataFrame(df_accel['data'].tolist(), index=df_accel.index)"
   ]
  },
  {
   "cell_type": "code",
   "execution_count": 17,
   "metadata": {},
   "outputs": [
    {
     "data": {
      "text/html": [
       "<div>\n",
       "<style scoped>\n",
       "    .dataframe tbody tr th:only-of-type {\n",
       "        vertical-align: middle;\n",
       "    }\n",
       "\n",
       "    .dataframe tbody tr th {\n",
       "        vertical-align: top;\n",
       "    }\n",
       "\n",
       "    .dataframe thead th {\n",
       "        text-align: right;\n",
       "    }\n",
       "</style>\n",
       "<table border=\"1\" class=\"dataframe\">\n",
       "  <thead>\n",
       "    <tr style=\"text-align: right;\">\n",
       "      <th></th>\n",
       "      <th>accuracy</th>\n",
       "      <th>data</th>\n",
       "      <th>experimentId</th>\n",
       "      <th>patientId</th>\n",
       "      <th>sensorId</th>\n",
       "      <th>sensorType</th>\n",
       "      <th>timestamp</th>\n",
       "      <th>X</th>\n",
       "      <th>Y</th>\n",
       "      <th>Z</th>\n",
       "    </tr>\n",
       "  </thead>\n",
       "  <tbody>\n",
       "    <tr>\n",
       "      <th>0</th>\n",
       "      <td>3</td>\n",
       "      <td>[0.94930094, 6.232107, 8.094197]</td>\n",
       "      <td>0</td>\n",
       "      <td>0</td>\n",
       "      <td>icm4x6xx Accelerometer Non-wakeup</td>\n",
       "      <td>1</td>\n",
       "      <td>204299350435606</td>\n",
       "      <td>0.949301</td>\n",
       "      <td>6.232107</td>\n",
       "      <td>8.094197</td>\n",
       "    </tr>\n",
       "    <tr>\n",
       "      <th>2</th>\n",
       "      <td>3</td>\n",
       "      <td>[-1.5310919, 5.509058, 9.832388]</td>\n",
       "      <td>0</td>\n",
       "      <td>0</td>\n",
       "      <td>icm4x6xx Accelerometer Non-wakeup</td>\n",
       "      <td>1</td>\n",
       "      <td>204299310353940</td>\n",
       "      <td>-1.531092</td>\n",
       "      <td>5.509058</td>\n",
       "      <td>9.832388</td>\n",
       "    </tr>\n",
       "    <tr>\n",
       "      <th>3</th>\n",
       "      <td>3</td>\n",
       "      <td>[0.19752164, 5.872977, 9.818023]</td>\n",
       "      <td>0</td>\n",
       "      <td>0</td>\n",
       "      <td>icm4x6xx Accelerometer Non-wakeup</td>\n",
       "      <td>1</td>\n",
       "      <td>204299330394773</td>\n",
       "      <td>0.197522</td>\n",
       "      <td>5.872977</td>\n",
       "      <td>9.818023</td>\n",
       "    </tr>\n",
       "    <tr>\n",
       "      <th>7</th>\n",
       "      <td>3</td>\n",
       "      <td>[0.37948096, 5.8107276, 9.415796]</td>\n",
       "      <td>0</td>\n",
       "      <td>0</td>\n",
       "      <td>icm4x6xx Accelerometer Non-wakeup</td>\n",
       "      <td>1</td>\n",
       "      <td>204299390517273</td>\n",
       "      <td>0.379481</td>\n",
       "      <td>5.810728</td>\n",
       "      <td>9.415796</td>\n",
       "    </tr>\n",
       "    <tr>\n",
       "      <th>9</th>\n",
       "      <td>3</td>\n",
       "      <td>[0.8391677, 5.542577, 7.241862]</td>\n",
       "      <td>0</td>\n",
       "      <td>0</td>\n",
       "      <td>icm4x6xx Accelerometer Non-wakeup</td>\n",
       "      <td>1</td>\n",
       "      <td>204299370476440</td>\n",
       "      <td>0.839168</td>\n",
       "      <td>5.542577</td>\n",
       "      <td>7.241862</td>\n",
       "    </tr>\n",
       "    <tr>\n",
       "      <th>11</th>\n",
       "      <td>3</td>\n",
       "      <td>[1.1264719, 4.086902, 10.459669]</td>\n",
       "      <td>0</td>\n",
       "      <td>0</td>\n",
       "      <td>icm4x6xx Accelerometer Non-wakeup</td>\n",
       "      <td>1</td>\n",
       "      <td>204299430598940</td>\n",
       "      <td>1.126472</td>\n",
       "      <td>4.086902</td>\n",
       "      <td>10.459669</td>\n",
       "    </tr>\n",
       "    <tr>\n",
       "      <th>12</th>\n",
       "      <td>3</td>\n",
       "      <td>[0.7625532, 4.9200845, 12.07336]</td>\n",
       "      <td>0</td>\n",
       "      <td>0</td>\n",
       "      <td>icm4x6xx Accelerometer Non-wakeup</td>\n",
       "      <td>1</td>\n",
       "      <td>204299410558106</td>\n",
       "      <td>0.762553</td>\n",
       "      <td>4.920084</td>\n",
       "      <td>12.073360</td>\n",
       "    </tr>\n",
       "    <tr>\n",
       "      <th>15</th>\n",
       "      <td>3</td>\n",
       "      <td>[3.2237926, 4.498705, 10.090961]</td>\n",
       "      <td>0</td>\n",
       "      <td>0</td>\n",
       "      <td>icm4x6xx Accelerometer Non-wakeup</td>\n",
       "      <td>1</td>\n",
       "      <td>204299490721440</td>\n",
       "      <td>3.223793</td>\n",
       "      <td>4.498705</td>\n",
       "      <td>10.090961</td>\n",
       "    </tr>\n",
       "    <tr>\n",
       "      <th>17</th>\n",
       "      <td>3</td>\n",
       "      <td>[1.0259154, 3.8618474, 6.2315083]</td>\n",
       "      <td>0</td>\n",
       "      <td>0</td>\n",
       "      <td>icm4x6xx Accelerometer Non-wakeup</td>\n",
       "      <td>1</td>\n",
       "      <td>204299450639773</td>\n",
       "      <td>1.025915</td>\n",
       "      <td>3.861847</td>\n",
       "      <td>6.231508</td>\n",
       "    </tr>\n",
       "    <tr>\n",
       "      <th>18</th>\n",
       "      <td>3</td>\n",
       "      <td>[1.9692309, 5.0302176, 8.95611]</td>\n",
       "      <td>0</td>\n",
       "      <td>0</td>\n",
       "      <td>icm4x6xx Accelerometer Non-wakeup</td>\n",
       "      <td>1</td>\n",
       "      <td>204299610966440</td>\n",
       "      <td>1.969231</td>\n",
       "      <td>5.030218</td>\n",
       "      <td>8.956110</td>\n",
       "    </tr>\n",
       "  </tbody>\n",
       "</table>\n",
       "</div>"
      ],
      "text/plain": [
       "    accuracy                               data  experimentId  patientId  \\\n",
       "0          3   [0.94930094, 6.232107, 8.094197]             0          0   \n",
       "2          3   [-1.5310919, 5.509058, 9.832388]             0          0   \n",
       "3          3   [0.19752164, 5.872977, 9.818023]             0          0   \n",
       "7          3  [0.37948096, 5.8107276, 9.415796]             0          0   \n",
       "9          3    [0.8391677, 5.542577, 7.241862]             0          0   \n",
       "11         3   [1.1264719, 4.086902, 10.459669]             0          0   \n",
       "12         3   [0.7625532, 4.9200845, 12.07336]             0          0   \n",
       "15         3   [3.2237926, 4.498705, 10.090961]             0          0   \n",
       "17         3  [1.0259154, 3.8618474, 6.2315083]             0          0   \n",
       "18         3    [1.9692309, 5.0302176, 8.95611]             0          0   \n",
       "\n",
       "                             sensorId  sensorType        timestamp         X  \\\n",
       "0   icm4x6xx Accelerometer Non-wakeup           1  204299350435606  0.949301   \n",
       "2   icm4x6xx Accelerometer Non-wakeup           1  204299310353940 -1.531092   \n",
       "3   icm4x6xx Accelerometer Non-wakeup           1  204299330394773  0.197522   \n",
       "7   icm4x6xx Accelerometer Non-wakeup           1  204299390517273  0.379481   \n",
       "9   icm4x6xx Accelerometer Non-wakeup           1  204299370476440  0.839168   \n",
       "11  icm4x6xx Accelerometer Non-wakeup           1  204299430598940  1.126472   \n",
       "12  icm4x6xx Accelerometer Non-wakeup           1  204299410558106  0.762553   \n",
       "15  icm4x6xx Accelerometer Non-wakeup           1  204299490721440  3.223793   \n",
       "17  icm4x6xx Accelerometer Non-wakeup           1  204299450639773  1.025915   \n",
       "18  icm4x6xx Accelerometer Non-wakeup           1  204299610966440  1.969231   \n",
       "\n",
       "           Y          Z  \n",
       "0   6.232107   8.094197  \n",
       "2   5.509058   9.832388  \n",
       "3   5.872977   9.818023  \n",
       "7   5.810728   9.415796  \n",
       "9   5.542577   7.241862  \n",
       "11  4.086902  10.459669  \n",
       "12  4.920084  12.073360  \n",
       "15  4.498705  10.090961  \n",
       "17  3.861847   6.231508  \n",
       "18  5.030218   8.956110  "
      ]
     },
     "execution_count": 17,
     "metadata": {},
     "output_type": "execute_result"
    }
   ],
   "source": [
    "df_accel.head(10)\n"
   ]
  },
  {
   "cell_type": "code",
   "execution_count": 36,
   "metadata": {},
   "outputs": [
    {
     "data": {
      "text/plain": [
       "<Axes: xlabel='None', ylabel='timestamp'>"
      ]
     },
     "execution_count": 36,
     "metadata": {},
     "output_type": "execute_result"
    },
    {
     "data": {
      "image/png": "[encoded data removed]",
      "text/plain": [
       "<Figure size 640x480 with 1 Axes>"
      ]
     },
     "metadata": {},
     "output_type": "display_data"
    }
   ],
   "source": [
    "sns.lineplot(df, x= df.index, y = 'timestamp')"
   ]
  },
  {
   "cell_type": "code",
   "execution_count": 38,
   "metadata": {},
   "outputs": [],
   "source": [
    "\n",
    "Q1 = df['timestamp'].quantile(0.25)\n",
    "Q3 = df['timestamp'].quantile(0.75)\n",
    "\n",
    "IQR = Q3 - Q1\n",
    "        \n",
    "        # Determine outlier criteria\n",
    "lower_bound = Q1 - 1.5 * IQR\n",
    "upper_bound = Q3 + 1.5 * IQR\n",
    "        \n",
    "        # Identify outliers\n",
    "outliers = df[(df['timestamp'] < lower_bound) | (df['timestamp'] > upper_bound)]\n"
   ]
  },
  {
   "cell_type": "code",
   "execution_count": 39,
   "metadata": {},
   "outputs": [
    {
     "name": "stdout",
     "output_type": "stream",
     "text": [
      "   accuracy                                               data  experimentId  \\\n",
      "1         3                                              [0.0]             0   \n",
      "4         3  [1.0, 1.0, 0.0, 3.0, 0.0, 0.0, 0.0, 0.0, 0.0, ...             0   \n",
      "5         3  [0.0, 18.0, 0.0, 0.0, 0.0, 0.0, 0.0, 0.0, 0.0,...             0   \n",
      "\n",
      "   patientId                            sensorId  sensorType        timestamp  \n",
      "1          0           device_orient  Non-wakeup          27  204167520679611  \n",
      "4          0  oplus_activity_recognition  Wakeup    33171037  204203940653494  \n",
      "5          0             elevator_detect  Wakeup    33171036  133999045281018  \n"
     ]
    }
   ],
   "source": [
    "print(outliers)"
   ]
  },
  {
   "cell_type": "code",
   "execution_count": 40,
   "metadata": {},
   "outputs": [],
   "source": [
    "df.drop(outliers.index, inplace=True)"
   ]
  },
  {
   "cell_type": "code",
   "execution_count": 41,
   "metadata": {},
   "outputs": [
    {
     "data": {
      "text/html": [
       "<div>\n",
       "<style scoped>\n",
       "    .dataframe tbody tr th:only-of-type {\n",
       "        vertical-align: middle;\n",
       "    }\n",
       "\n",
       "    .dataframe tbody tr th {\n",
       "        vertical-align: top;\n",
       "    }\n",
       "\n",
       "    .dataframe thead th {\n",
       "        text-align: right;\n",
       "    }\n",
       "</style>\n",
       "<table border=\"1\" class=\"dataframe\">\n",
       "  <thead>\n",
       "    <tr style=\"text-align: right;\">\n",
       "      <th></th>\n",
       "      <th>accuracy</th>\n",
       "      <th>data</th>\n",
       "      <th>experimentId</th>\n",
       "      <th>patientId</th>\n",
       "      <th>sensorId</th>\n",
       "      <th>sensorType</th>\n",
       "      <th>timestamp</th>\n",
       "    </tr>\n",
       "  </thead>\n",
       "  <tbody>\n",
       "    <tr>\n",
       "      <th>0</th>\n",
       "      <td>3</td>\n",
       "      <td>[0.94930094, 6.232107, 8.094197]</td>\n",
       "      <td>0</td>\n",
       "      <td>0</td>\n",
       "      <td>icm4x6xx Accelerometer Non-wakeup</td>\n",
       "      <td>1</td>\n",
       "      <td>204299350435606</td>\n",
       "    </tr>\n",
       "    <tr>\n",
       "      <th>2</th>\n",
       "      <td>3</td>\n",
       "      <td>[-1.5310919, 5.509058, 9.832388]</td>\n",
       "      <td>0</td>\n",
       "      <td>0</td>\n",
       "      <td>icm4x6xx Accelerometer Non-wakeup</td>\n",
       "      <td>1</td>\n",
       "      <td>204299310353940</td>\n",
       "    </tr>\n",
       "    <tr>\n",
       "      <th>3</th>\n",
       "      <td>3</td>\n",
       "      <td>[0.19752164, 5.872977, 9.818023]</td>\n",
       "      <td>0</td>\n",
       "      <td>0</td>\n",
       "      <td>icm4x6xx Accelerometer Non-wakeup</td>\n",
       "      <td>1</td>\n",
       "      <td>204299330394773</td>\n",
       "    </tr>\n",
       "    <tr>\n",
       "      <th>6</th>\n",
       "      <td>3</td>\n",
       "      <td>[0.0, 0.0, 0.0]</td>\n",
       "      <td>0</td>\n",
       "      <td>0</td>\n",
       "      <td>linear_acceleration</td>\n",
       "      <td>10</td>\n",
       "      <td>204299460843992</td>\n",
       "    </tr>\n",
       "    <tr>\n",
       "      <th>7</th>\n",
       "      <td>3</td>\n",
       "      <td>[0.37948096, 5.8107276, 9.415796]</td>\n",
       "      <td>0</td>\n",
       "      <td>0</td>\n",
       "      <td>icm4x6xx Accelerometer Non-wakeup</td>\n",
       "      <td>1</td>\n",
       "      <td>204299390517273</td>\n",
       "    </tr>\n",
       "  </tbody>\n",
       "</table>\n",
       "</div>"
      ],
      "text/plain": [
       "   accuracy                               data  experimentId  patientId  \\\n",
       "0         3   [0.94930094, 6.232107, 8.094197]             0          0   \n",
       "2         3   [-1.5310919, 5.509058, 9.832388]             0          0   \n",
       "3         3   [0.19752164, 5.872977, 9.818023]             0          0   \n",
       "6         3                    [0.0, 0.0, 0.0]             0          0   \n",
       "7         3  [0.37948096, 5.8107276, 9.415796]             0          0   \n",
       "\n",
       "                            sensorId  sensorType        timestamp  \n",
       "0  icm4x6xx Accelerometer Non-wakeup           1  204299350435606  \n",
       "2  icm4x6xx Accelerometer Non-wakeup           1  204299310353940  \n",
       "3  icm4x6xx Accelerometer Non-wakeup           1  204299330394773  \n",
       "6                linear_acceleration          10  204299460843992  \n",
       "7  icm4x6xx Accelerometer Non-wakeup           1  204299390517273  "
      ]
     },
     "execution_count": 41,
     "metadata": {},
     "output_type": "execute_result"
    }
   ],
   "source": [
    "df.head()"
   ]
  },
  {
   "cell_type": "code",
   "execution_count": 42,
   "metadata": {},
   "outputs": [
    {
     "data": {
      "text/plain": [
       "<Axes: >"
      ]
     },
     "execution_count": 42,
     "metadata": {},
     "output_type": "execute_result"
    },
    {
     "data": {
      "image/png": "[encoded data removed]",
      "text/plain": [
       "<Figure size 640x480 with 1 Axes>"
      ]
     },
     "metadata": {},
     "output_type": "display_data"
    }
   ],
   "source": [
    "df_accel[['X', 'Y', 'Z']].plot()"
   ]
  },
  {
   "cell_type": "code",
   "execution_count": 43,
   "metadata": {},
   "outputs": [],
   "source": [
    "from datetime import datetime\n",
    "dt_max = datetime.fromtimestamp(df['timestamp'].max() / 1_000_000_000)\n",
    "dt_min = datetime.fromtimestamp(df['timestamp'].min()/ 1_000_000_000)"
   ]
  },
  {
   "cell_type": "code",
   "execution_count": 52,
   "metadata": {},
   "outputs": [],
   "source": [
    "dt = dt_max - dt_min"
   ]
  },
  {
   "cell_type": "code",
   "execution_count": 53,
   "metadata": {},
   "outputs": [
    {
     "data": {
      "text/plain": [
       "datetime.timedelta(seconds=18, microseconds=407898)"
      ]
     },
     "execution_count": 53,
     "metadata": {},
     "output_type": "execute_result"
    }
   ],
   "source": [
    "dt"
   ]
  },
  {
   "cell_type": "code",
   "execution_count": 44,
   "metadata": {},
   "outputs": [
    {
     "data": {
      "text/plain": [
       "datetime.datetime(1970, 1, 3, 9, 45, 17, 718252)"
      ]
     },
     "execution_count": 44,
     "metadata": {},
     "output_type": "execute_result"
    }
   ],
   "source": [
    "dt_max"
   ]
  },
  {
   "cell_type": "code",
   "execution_count": 45,
   "metadata": {},
   "outputs": [
    {
     "data": {
      "text/plain": [
       "datetime.datetime(1970, 1, 3, 9, 44, 59, 310354)"
      ]
     },
     "execution_count": 45,
     "metadata": {},
     "output_type": "execute_result"
    }
   ],
   "source": [
    "dt_min"
   ]
  },
  {
   "cell_type": "code",
   "execution_count": 46,
   "metadata": {},
   "outputs": [],
   "source": [
    "s_max = dt_max.strftime('%Y-%m-%d %H:%M:%S')\n",
    "s_min = dt_min.strftime('%Y-%m-%d %H:%M:%S')"
   ]
  },
  {
   "cell_type": "code",
   "execution_count": 54,
   "metadata": {},
   "outputs": [
    {
     "data": {
      "text/plain": [
       "'1970-01-03 09:45:17'"
      ]
     },
     "execution_count": 54,
     "metadata": {},
     "output_type": "execute_result"
    }
   ],
   "source": [
    "s_max"
   ]
  },
  {
   "cell_type": "code",
   "execution_count": 55,
   "metadata": {},
   "outputs": [
    {
     "data": {
      "text/plain": [
       "'1970-01-03 09:44:59'"
      ]
     },
     "execution_count": 55,
     "metadata": {},
     "output_type": "execute_result"
    }
   ],
   "source": [
    "s_min"
   ]
  }
 ],
 "metadata": {
  "kernelspec": {
   "display_name": "Python 3",
   "language": "python",
   "name": "python3"
  },
  "language_info": {
   "codemirror_mode": {
    "name": "ipython",
    "version": 3
   },
   "file_extension": ".py",
   "mimetype": "text/x-python",
   "name": "python",
   "nbconvert_exporter": "python",
   "pygments_lexer": "ipython3",
   "version": "3.11.6"
  }
 },
 "nbformat": 4,
 "nbformat_minor": 2
}
