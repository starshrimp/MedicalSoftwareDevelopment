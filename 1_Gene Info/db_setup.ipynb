{
 "cells": [
  {
   "cell_type": "code",
   "execution_count": 18,
   "metadata": {},
   "outputs": [],
   "source": [
    "import sqlite3\n",
    "import csv"
   ]
  },
  {
   "cell_type": "code",
   "execution_count": 19,
   "metadata": {},
   "outputs": [],
   "source": [
    "conn = sqlite3.connect('genes.db')\n"
   ]
  },
  {
   "cell_type": "code",
   "execution_count": 20,
   "metadata": {},
   "outputs": [],
   "source": [
    "cursor = conn.cursor()"
   ]
  },
  {
   "cell_type": "code",
   "execution_count": 21,
   "metadata": {},
   "outputs": [],
   "source": [
    "create_table_query = '''\n",
    "CREATE TABLE IF NOT EXISTS genes (\n",
    "    tax_id INTEGER,\n",
    "    GeneID INTEGER PRIMARY KEY,\n",
    "    Symbol TEXT,\n",
    "    LocusTag TEXT,\n",
    "    Synonyms TEXT,\n",
    "    dbXrefs TEXT,\n",
    "    chromosome TEXT,\n",
    "    map_location TEXT,\n",
    "    description TEXT,\n",
    "    type_of_gene TEXT,\n",
    "    Symbol_from_nomenclature_authority TEXT,\n",
    "    Full_name_from_nomenclature_authority TEXT,\n",
    "    Nomenclature_status TEXT,\n",
    "    Other_designations TEXT,\n",
    "    Modification_date DATE,\n",
    "    Feature_type TEXT\n",
    ");\n",
    "\n",
    "'''\n",
    "cursor.execute(create_table_query)\n",
    "\n",
    "conn.commit()\n"
   ]
  },
  {
   "cell_type": "code",
   "execution_count": 23,
   "metadata": {},
   "outputs": [],
   "source": [
    "with open('gene_info', 'r') as file:\n",
    "    tsv_reader = csv.reader(file, delimiter='\\t')\n",
    "    \n",
    "    for row in tsv_reader:\n",
    "        # Replacing '-' with None to handle null values\n",
    "        row = [None if cell == '-' else cell for cell in row]\n",
    "        insert_query = '''\n",
    "        INSERT OR IGNORE INTO genes (\n",
    "            tax_id, GeneID, Symbol, LocusTag, Synonyms, dbXrefs, chromosome,\n",
    "            map_location, description, type_of_gene, Symbol_from_nomenclature_authority,\n",
    "            Full_name_from_nomenclature_authority, Nomenclature_status,\n",
    "            Other_designations, Modification_date, Feature_type\n",
    "        ) VALUES (?, ?, ?, ?, ?, ?, ?, ?, ?, ?, ?, ?, ?, ?, ?, ?)\n",
    "        '''\n",
    "        \n",
    "        # Execute the insert query with the row data\n",
    "        cursor.execute(insert_query, row)\n",
    "\n",
    "# Commit changes to the database\n",
    "conn.commit()\n",
    "\n",
    "# Close the connection\n",
    "\n"
   ]
  }
 ],
 "metadata": {
  "kernelspec": {
   "display_name": "Python 3",
   "language": "python",
   "name": "python3"
  },
  "language_info": {
   "codemirror_mode": {
    "name": "ipython",
    "version": 3
   },
   "file_extension": ".py",
   "mimetype": "text/x-python",
   "name": "python",
   "nbconvert_exporter": "python",
   "pygments_lexer": "ipython3",
   "version": "3.11.6"
  }
 },
 "nbformat": 4,
 "nbformat_minor": 2
}
